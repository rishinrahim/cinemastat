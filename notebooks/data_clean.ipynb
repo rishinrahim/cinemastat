{
 "cells": [
  {
   "cell_type": "code",
   "execution_count": 1,
   "metadata": {},
   "outputs": [],
   "source": [
    "import pandas as pd"
   ]
  },
  {
   "cell_type": "code",
   "execution_count": 3,
   "metadata": {},
   "outputs": [],
   "source": [
    "df = pd.read_pickle(\"data_2021_03_29.pkl\")"
   ]
  },
  {
   "cell_type": "code",
   "execution_count": 4,
   "metadata": {},
   "outputs": [
    {
     "name": "stdout",
     "output_type": "stream",
     "text": [
      "<class 'pandas.core.frame.DataFrame'>\n",
      "Int64Index: 6400 entries, 1 to 1\n",
      "Data columns (total 27 columns):\n",
      " #   Column             Non-Null Count  Dtype \n",
      "---  ------             --------------  ----- \n",
      " 0   status             6400 non-null   object\n",
      " 1   director           5969 non-null   object\n",
      " 2   producer           3997 non-null   object\n",
      " 3   banner             4003 non-null   object\n",
      " 4   story              4474 non-null   object\n",
      " 5   screenplay         4552 non-null   object\n",
      " 6   cinematography     4646 non-null   object\n",
      " 7   movie              6400 non-null   object\n",
      " 8   year               6400 non-null   int64 \n",
      " 9   main_Cast          6400 non-null   object\n",
      " 10  support_cast       6400 non-null   object\n",
      " 11  editing            4397 non-null   object\n",
      " 12  dialogue           4374 non-null   object\n",
      " 13  lyrics             5690 non-null   object\n",
      " 14  music              5914 non-null   object\n",
      " 15  singers            5434 non-null   object\n",
      " 16  movie genre        301 non-null    object\n",
      " 17  original story     117 non-null    object\n",
      " 18  art direction      3097 non-null   object\n",
      " 19  distribution       1673 non-null   object\n",
      " 20  makeup             792 non-null    object\n",
      " 21  background music   1465 non-null   object\n",
      " 22  costumes           710 non-null    object\n",
      " 23  sound design       138 non-null    object\n",
      " 24  choreography       153 non-null    object\n",
      " 25  shooting location  313 non-null    object\n",
      " 26  design             2231 non-null   object\n",
      "dtypes: int64(1), object(26)\n",
      "memory usage: 1.4+ MB\n"
     ]
    }
   ],
   "source": [
    "df.info()"
   ]
  },
  {
   "cell_type": "code",
   "execution_count": 8,
   "metadata": {},
   "outputs": [],
   "source": [
    "#normalizing column names\n",
    "columns = [i.lower().replace(\" \",\"_\") for i in df.columns]\n",
    "df.columns = columns"
   ]
  },
  {
   "cell_type": "markdown",
   "metadata": {},
   "source": [
    "## Movies_by_status"
   ]
  },
  {
   "cell_type": "code",
   "execution_count": 75,
   "metadata": {},
   "outputs": [
    {
     "name": "stdout",
     "output_type": "stream",
     "text": [
      "['Released', 'Unreleased', 'Released, Other language dubbing', 'Unreleased, Other language dubbing', 'Released on 00-06-2005', 'TV Channel Release, Other language dubbing', 'Shooting in Progress', 'Shooting Completed', 'TV Channel Release', 'Shooting in Progress, Other language dubbing', 'Shooting Completed, Other language dubbing', 'Releasing Soon, Other language dubbing', 'Releasing Soon']\n"
     ]
    }
   ],
   "source": [
    "statuses = [i for i in df['status'].unique() if isinstance(i,str)]\n",
    "print(statuses)"
   ]
  },
  {
   "cell_type": "code",
   "execution_count": 80,
   "metadata": {},
   "outputs": [
    {
     "data": {
      "text/plain": [
       "['Unreleased',\n",
       " 'Released, Other language dubbing',\n",
       " 'Unreleased, Other language dubbing',\n",
       " 'TV Channel Release, Other language dubbing',\n",
       " 'Shooting in Progress',\n",
       " 'Shooting Completed',\n",
       " 'Shooting in Progress, Other language dubbing',\n",
       " 'Shooting Completed, Other language dubbing',\n",
       " 'Releasing Soon, Other language dubbing',\n",
       " 'Releasing Soon']"
      ]
     },
     "execution_count": 80,
     "metadata": {},
     "output_type": "execute_result"
    }
   ],
   "source": [
    "not_released = [x for x in statuses if not x in(['Released','TV Channel Release','Released on 00-06-2005'])]\n",
    "not_released"
   ]
  },
  {
   "cell_type": "code",
   "execution_count": 89,
   "metadata": {},
   "outputs": [],
   "source": [
    "unreleased = ['Unreleased','Unreleased, Other language dubbing']"
   ]
  },
  {
   "cell_type": "code",
   "execution_count": 101,
   "metadata": {},
   "outputs": [],
   "source": [
    "dubbed = ['Released, Other language dubbing','TV Channel Release, Other language dubbing']\n",
    "shooting =['Shooting in Progress','Shooting Completed',\n",
    "           'Shooting in Progress, Other language dubbing','Shooting Completed, Other language dubbing','Releasing Soon','Releasing Soon, Other language dubbing']"
   ]
  },
  {
   "cell_type": "code",
   "execution_count": 131,
   "metadata": {},
   "outputs": [
    {
     "data": {
      "text/plain": [
       "{'total': 6400,\n",
       " 'released': 5213,\n",
       " 'dubbed': 311,\n",
       " 'unreleased': 490,\n",
       " 'shooting': 386}"
      ]
     },
     "execution_count": 131,
     "metadata": {},
     "output_type": "execute_result"
    }
   ],
   "source": [
    "#Grouping by year\n",
    "released = df[~ df.status.isin(not_released)].shape[0]\n",
    "db = df[df.status.isin(dubbed)].shape[0]\n",
    "ur = df[df.status.isin(unreleased)].shape[0]\n",
    "scp = df[df.status.isin(shooting)].shape[0]\n",
    "mv_status = {\"total\":released+db+ur+scp,\n",
    "            \"released\":released,\n",
    "            \"dubbed\":db,\n",
    "            \"unreleased\":ur,\n",
    "            \"shooting\":scp}\n",
    "mv_status"
   ]
  },
  {
   "cell_type": "code",
   "execution_count": 105,
   "metadata": {},
   "outputs": [
    {
     "name": "stdout",
     "output_type": "stream",
     "text": [
      "released = 5213\n",
      "dubbed = 311\n",
      "unreleased = 490\n",
      "shooting completed = 386\n",
      "6400 and 6400\n"
     ]
    }
   ],
   "source": [
    "print(f\"released = {released}\")\n",
    "print(f\"dubbed = {db}\")\n",
    "print(f\"unreleased = {ur}\")\n",
    "print(f\"shooting completed = {scp}\")\n",
    "print(f\"{df.shape[0]} and {released+db+ur+scp}\")"
   ]
  },
  {
   "cell_type": "markdown",
   "metadata": {},
   "source": [
    "# Movie count by years"
   ]
  },
  {
   "cell_type": "code",
   "execution_count": 129,
   "metadata": {},
   "outputs": [],
   "source": [
    "release_df = df[~ df.status.isin(not_released)]\n",
    "mv_count = release_df[release_df['year']>0][[\"movie\",\"year\"]].groupby(\"year\").count()"
   ]
  },
  {
   "cell_type": "code",
   "execution_count": 130,
   "metadata": {},
   "outputs": [
    {
     "data": {
      "text/plain": [
       "'{\"columns\":[\"movie\"],\"index\":[1928,1933,1938,1940,1941,1948,1949,1950,1951,1952,1953,1954,1955,1956,1957,1958,1959,1960,1961,1962,1963,1964,1965,1966,1967,1968,1969,1970,1971,1972,1973,1974,1975,1976,1977,1978,1979,1980,1981,1982,1983,1984,1985,1986,1987,1988,1989,1990,1991,1992,1993,1994,1995,1996,1997,1998,1999,2000,2001,2002,2003,2004,2005,2006,2007,2008,2009,2010,2011,2012,2013,2014,2015,2016,2017,2018,2019,2020,2021],\"data\":[[1],[1],[1],[1],[1],[1],[1],[6],[6],[11],[7],[8],[7],[5],[7],[4],[4],[5],[10],[14],[13],[19],[30],[28],[41],[33],[33],[40],[49],[49],[61],[50],[68],[68],[91],[126],[113],[92],[97],[110],[110],[108],[116],[115],[88],[87],[84],[102],[102],[86],[74],[70],[76],[65],[89],[63],[66],[84],[112],[100],[71],[67],[69],[72],[73],[64],[94],[105],[112],[141],[167],[158],[154],[142],[175],[182],[189],[52],[12]]}'"
      ]
     },
     "execution_count": 130,
     "metadata": {},
     "output_type": "execute_result"
    }
   ],
   "source": [
    "dfjson1 = mv_count.to_json(orient = \"split\")\n",
    "dfjson1"
   ]
  },
  {
   "cell_type": "code",
   "execution_count": null,
   "metadata": {},
   "outputs": [],
   "source": []
  }
 ],
 "metadata": {
  "kernelspec": {
   "display_name": "Python 3",
   "language": "python",
   "name": "python3"
  },
  "language_info": {
   "codemirror_mode": {
    "name": "ipython",
    "version": 3
   },
   "file_extension": ".py",
   "mimetype": "text/x-python",
   "name": "python",
   "nbconvert_exporter": "python",
   "pygments_lexer": "ipython3",
   "version": "3.7.7"
  }
 },
 "nbformat": 4,
 "nbformat_minor": 4
}
